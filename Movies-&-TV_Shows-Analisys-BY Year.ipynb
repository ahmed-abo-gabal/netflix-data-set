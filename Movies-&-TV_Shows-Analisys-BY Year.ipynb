{
 "cells": [
  {
   "cell_type": "markdown",
   "id": "4042356c",
   "metadata": {},
   "source": [
    "### Q1  : count of movies and TV shows"
   ]
  },
  {
   "cell_type": "code",
   "execution_count": 29,
   "id": "00d6b80f",
   "metadata": {},
   "outputs": [],
   "source": [
    "import pandas as pd\n",
    "import matplotlib.pyplot as plt"
   ]
  },
  {
   "cell_type": "code",
   "execution_count": 21,
   "id": "e2054577",
   "metadata": {},
   "outputs": [],
   "source": [
    "df = pd.read_csv(r\"C:\\Users\\UTS\\Desktop\\Data Set\\netflix_titles.csv\")\n",
    "\n"
   ]
  },
  {
   "cell_type": "code",
   "execution_count": 16,
   "id": "0a8d92a8",
   "metadata": {},
   "outputs": [
    {
     "name": "stdout",
     "output_type": "stream",
     "text": [
      "Count of Movies:  6131\n",
      "Count of TV Shows:  2676\n"
     ]
    }
   ],
   "source": [
    "type_counts = df['type'].value_counts()\n",
    "print(\"Count of Movies: \",type_counts.get('Movie',0))\n",
    "print(\"Count of TV Shows: \",type_counts.get('TV Show',0))"
   ]
  },
  {
   "cell_type": "code",
   "execution_count": 18,
   "id": "061b0ae8",
   "metadata": {},
   "outputs": [
    {
     "name": "stdout",
     "output_type": "stream",
     "text": [
      "Count of movies Greater Than TV Shows\n"
     ]
    }
   ],
   "source": [
    "if type_counts.get('Movie',0) > type_counts.get('TV Show',0):\n",
    "    print(\"Count of movies Greater Than TV Shows\")\n",
    "\n",
    "else:\n",
    "    print(\"Count of TV Shows Greater Than movies\")"
   ]
  },
  {
   "cell_type": "code",
   "execution_count": 20,
   "id": "9c04228c",
   "metadata": {},
   "outputs": [
    {
     "name": "stdout",
     "output_type": "stream",
     "text": [
      "Count of Movies: 6131\n"
     ]
    }
   ],
   "source": [
    "print(\"Count of Movies:\", type_counts.get('Movie', 0))"
   ]
  },
  {
   "cell_type": "markdown",
   "id": "ee02be81",
   "metadata": {},
   "source": [
    "### Q2: iterate through the rating column of the dataset and count how many times the rating is (TV-MA)"
   ]
  },
  {
   "cell_type": "code",
   "execution_count": 22,
   "id": "5b5039ca",
   "metadata": {},
   "outputs": [],
   "source": [
    "tvme_count = 0"
   ]
  },
  {
   "cell_type": "code",
   "execution_count": 23,
   "id": "51e58529",
   "metadata": {},
   "outputs": [],
   "source": [
    "for rating in df['rating']:\n",
    "    if rating == \"TV-MA\":\n",
    "        tvme_count += 1"
   ]
  },
  {
   "cell_type": "code",
   "execution_count": 24,
   "id": "fe01b06e",
   "metadata": {},
   "outputs": [
    {
     "name": "stdout",
     "output_type": "stream",
     "text": [
      "Count How Many Times the Rating is:  3207\n"
     ]
    }
   ],
   "source": [
    "print(\"Count How Many Times the Rating is: \",tvme_count)"
   ]
  },
  {
   "cell_type": "markdown",
   "id": "48a92c8e",
   "metadata": {},
   "source": [
    "### Q3: filter the dataset to only include movies released after 2015"
   ]
  },
  {
   "cell_type": "code",
   "execution_count": 25,
   "id": "2214da40",
   "metadata": {},
   "outputs": [],
   "source": [
    "movies_after_2015 = df[(df['type'] == 'Movie') & (df['release_year'] > 2015)]"
   ]
  },
  {
   "cell_type": "code",
   "execution_count": 27,
   "id": "89955a54",
   "metadata": {},
   "outputs": [
    {
     "name": "stdout",
     "output_type": "stream",
     "text": [
      "   show_id   type                             title  \\\n",
      "0       s1  Movie              Dick Johnson Is Dead   \n",
      "6       s7  Movie  My Little Pony: A New Generation   \n",
      "9      s10  Movie                      The Starling   \n",
      "12     s13  Movie                      Je Suis Karl   \n",
      "13     s14  Movie  Confessions of an Invisible Girl   \n",
      "\n",
      "                         director  \\\n",
      "0                 Kirsten Johnson   \n",
      "6   Robert Cullen, José Luis Ucha   \n",
      "9                  Theodore Melfi   \n",
      "12            Christian Schwochow   \n",
      "13                  Bruno Garotti   \n",
      "\n",
      "                                                 cast  \\\n",
      "0                                                 NaN   \n",
      "6   Vanessa Hudgens, Kimiko Glenn, James Marsden, ...   \n",
      "9   Melissa McCarthy, Chris O'Dowd, Kevin Kline, T...   \n",
      "12  Luna Wedler, Jannis Niewöhner, Milan Peschel, ...   \n",
      "13  Klara Castanho, Lucca Picon, Júlia Gomes, Marc...   \n",
      "\n",
      "                    country          date_added  release_year rating duration  \\\n",
      "0             United States  September 25, 2021          2020  PG-13   90 min   \n",
      "6                       NaN  September 24, 2021          2021     PG   91 min   \n",
      "9             United States  September 24, 2021          2021  PG-13  104 min   \n",
      "12  Germany, Czech Republic  September 23, 2021          2021  TV-MA  127 min   \n",
      "13                      NaN  September 22, 2021          2021  TV-PG   91 min   \n",
      "\n",
      "                             listed_in  \\\n",
      "0                        Documentaries   \n",
      "6             Children & Family Movies   \n",
      "9                     Comedies, Dramas   \n",
      "12        Dramas, International Movies   \n",
      "13  Children & Family Movies, Comedies   \n",
      "\n",
      "                                          description  \n",
      "0   As her father nears the end of his life, filmm...  \n",
      "6   Equestria's divided. But a bright-eyed hero be...  \n",
      "9   A woman adjusting to life after a loss contend...  \n",
      "12  After most of her family is murdered in a terr...  \n",
      "13  When the clever but socially-awkward Tetê join...  \n"
     ]
    }
   ],
   "source": [
    "print(movies_after_2015.head())"
   ]
  },
  {
   "cell_type": "code",
   "execution_count": 28,
   "id": "914303f3",
   "metadata": {},
   "outputs": [
    {
     "name": "stdout",
     "output_type": "stream",
     "text": [
      "Movies After 2015 :  3619\n"
     ]
    }
   ],
   "source": [
    "print(\"Movies After 2015 : \",movies_after_2015.shape[0])"
   ]
  },
  {
   "cell_type": "markdown",
   "id": "5e38a836",
   "metadata": {},
   "source": [
    "### Q4\n"
   ]
  },
  {
   "cell_type": "code",
   "execution_count": 53,
   "id": "c061ffa6",
   "metadata": {},
   "outputs": [],
   "source": [
    "df['date_added'] = pd.to_datetime(df['date_added'])\n",
    "df[\"year_added\"] = df['date_added'].dt.year\n",
    "df['title_length'] = df['title'].str.len()"
   ]
  },
  {
   "cell_type": "code",
   "execution_count": 47,
   "id": "521ad2fc",
   "metadata": {},
   "outputs": [],
   "source": [
    "avg_title_length_by_year = df.groupby('year_added')['title_length'].mean()"
   ]
  },
  {
   "cell_type": "code",
   "execution_count": 63,
   "id": "41cda398",
   "metadata": {},
   "outputs": [
    {
     "data": {
      "image/png": "[encoded data removed]",
      "text/plain": [
       "<Figure size 1000x600 with 1 Axes>"
      ]
     },
     "metadata": {},
     "output_type": "display_data"
    }
   ],
   "source": [
    "plt.figure(figsize=(10, 6))\n",
    "\n",
    "avg_title_length_by_year.plot(kind='line', marker='o', color='purple')\n",
    "\n",
    "plt.title(\"Average Title Length by Year\", fontsize=14)\n",
    "plt.xlabel(\"Year\", fontsize=12)\n",
    "plt.ylabel(\"Average Title Length\", fontsize=12)\n",
    "plt.grid(True)\n",
    "plt.tight_layout()\n",
    "plt.show()\n"
   ]
  },
  {
   "cell_type": "markdown",
   "id": "8e912755",
   "metadata": {},
   "source": [
    "### Q A "
   ]
  }
 ],
 "metadata": {
  "kernelspec": {
   "display_name": "Python 3",
   "language": "python",
   "name": "python3"
  },
  "language_info": {
   "codemirror_mode": {
    "name": "ipython",
    "version": 3
   },
   "file_extension": ".py",
   "mimetype": "text/x-python",
   "name": "python",
   "nbconvert_exporter": "python",
   "pygments_lexer": "ipython3",
   "version": "3.11.9"
  }
 },
 "nbformat": 4,
 "nbformat_minor": 5
}
